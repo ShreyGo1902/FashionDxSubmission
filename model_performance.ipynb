{
 "cells": [
  {
   "cell_type": "code",
   "execution_count": 1,
   "metadata": {},
   "outputs": [
    {
     "name": "stdout",
     "output_type": "stream",
     "text": [
      "WARNING:tensorflow:From /home/shreyas/anaconda3/envs/tf_cpu/lib/python3.6/site-packages/tflearn-0.3.2-py3.6.egg/tflearn/initializations.py:119: UniformUnitScaling.__init__ (from tensorflow.python.ops.init_ops) is deprecated and will be removed in a future version.\n",
      "Instructions for updating:\n",
      "Use tf.initializers.variance_scaling instead with distribution=uniform to get equivalent behavior.\n",
      "WARNING:tensorflow:From /home/shreyas/anaconda3/envs/tf_cpu/lib/python3.6/site-packages/tflearn-0.3.2-py3.6.egg/tflearn/objectives.py:66: calling reduce_sum (from tensorflow.python.ops.math_ops) with keep_dims is deprecated and will be removed in a future version.\n",
      "Instructions for updating:\n",
      "keep_dims is deprecated, use keepdims instead\n",
      "INFO:tensorflow:Restoring parameters from /home/shreyas/PycharmProjects/FashionDxSubmission/my_model.tflearn\n"
     ]
    }
   ],
   "source": [
    "import tflearn\n",
    "from tflearn.layers.conv import conv_2d, max_pool_2d\n",
    "from tflearn.layers.core import input_data, dropout, fully_connected\n",
    "from tflearn.layers.estimator import regression\n",
    "import cv2                  # working with, mainly resizing, images\n",
    "import numpy as np          # dealing with arrays\n",
    "\n",
    "\n",
    "TEST_DIR = '/home/shreyas/PycharmProjects/After10:55/Test Set'\n",
    "IMG_SIZE = 150\n",
    "LR = 1e-4\n",
    "\n",
    "convnet = input_data(shape=[None, IMG_SIZE, IMG_SIZE, 1], name='input')\n",
    "\n",
    "convnet = conv_2d(convnet, 32, 5, activation='relu')\n",
    "convnet = max_pool_2d(convnet, 5)\n",
    "\n",
    "convnet = conv_2d(convnet, 64, 5, activation='relu')\n",
    "convnet = max_pool_2d(convnet, 5)\n",
    "\n",
    "convnet = conv_2d(convnet, 128, 5, activation='relu')\n",
    "convnet = max_pool_2d(convnet, 5)\n",
    "\n",
    "convnet = conv_2d(convnet, 64, 5, activation='relu')\n",
    "convnet = max_pool_2d(convnet, 5)\n",
    "\n",
    "convnet = conv_2d(convnet, 32, 5, activation='relu')\n",
    "convnet = max_pool_2d(convnet, 5)\n",
    "\n",
    "convnet = fully_connected(convnet, 1024, activation='relu')\n",
    "convnet = dropout(convnet, 0.8)\n",
    "\n",
    "convnet = fully_connected(convnet, 3, activation='softmax')\n",
    "convnet = regression(convnet, optimizer='adam', learning_rate=LR, loss='categorical_crossentropy', name='targets')\n",
    "\n",
    "model = tflearn.DNN(convnet)\n",
    "\n",
    "model.load('my_model.tflearn')"
   ]
  },
  {
   "cell_type": "code",
   "execution_count": 66,
   "metadata": {},
   "outputs": [],
   "source": [
    "train_data = np.load('train_data.npy')\n",
    "train = train_data[75:]\n",
    "test = train_data[:75]\n",
    "X1 = np.zeros((770, 150, 150))\n",
    "for index, i in enumerate(train):\n",
    "    X1[index] = i[0]\n",
    "X1 = X1.reshape(-1,IMG_SIZE,IMG_SIZE,1)\n",
    "Y = [i[1] for i in train]\n",
    "X1 = X1 / 255"
   ]
  },
  {
   "cell_type": "code",
   "execution_count": 67,
   "metadata": {},
   "outputs": [],
   "source": [
    "test_x = np.zeros((75, 150, 150))\n",
    "\n",
    "for index, i in enumerate(test):\n",
    "    test_x[index] = i[0]\n",
    "\n",
    "test_x = test_x.reshape(-1,IMG_SIZE,IMG_SIZE,1)\n",
    "test_x = test_x / 255\n",
    "test_y = [i[1] for i in test]"
   ]
  },
  {
   "cell_type": "code",
   "execution_count": 68,
   "metadata": {},
   "outputs": [
    {
     "name": "stderr",
     "output_type": "stream",
     "text": [
      "100%|██████████| 38/38 [00:01<00:00,  9.45it/s]\n"
     ]
    }
   ],
   "source": [
    "from tqdm import tqdm  \n",
    "import os\n",
    "import cv2                  # working with, mainly resizing, images\n",
    "import numpy as np          # dealing with arrays\n",
    "from random import shuffle \n",
    "\n",
    "TEST_DIR = '/home/shreyas/PycharmProjects/After10:55/Test Set'\n",
    "def process_test_data():\n",
    "    testing_data = []\n",
    "    for img in tqdm(os.listdir(TEST_DIR)):\n",
    "        path = os.path.join(TEST_DIR,img)\n",
    "        img_num = img.split('.')[1]\n",
    "        img = cv2.imread(path,cv2.IMREAD_GRAYSCALE)\n",
    "        img = cv2.resize(img, (IMG_SIZE,IMG_SIZE))\n",
    "        testing_data.append([np.array(img), img_num])\n",
    "    shuffle(testing_data)\n",
    "    np.save('test_data.npy', testing_data)\n",
    "    return testing_data\n",
    "test_data = process_test_data()"
   ]
  },
  {
   "cell_type": "code",
   "execution_count": 69,
   "metadata": {},
   "outputs": [
    {
     "name": "stdout",
     "output_type": "stream",
     "text": [
      "[[0, 0, 1], [1, 0, 0], [1, 0, 0], [0, 0, 1], [1, 0, 0], [1, 0, 0], [1, 0, 0], [0, 0, 1], [0, 0, 1], [0, 0, 1], [0, 0, 1], [1, 0, 0], [0, 0, 1], [1, 0, 0], [0, 0, 1], [1, 0, 0], [1, 0, 0], [0, 1, 0], [0, 0, 1], [0, 0, 1], [0, 0, 1], [1, 0, 0], [1, 0, 0], [1, 0, 0], [1, 0, 0], [0, 0, 1], [0, 0, 1], [0, 1, 0], [1, 0, 0], [0, 0, 1], [0, 1, 0], [1, 0, 0], [1, 0, 0], [0, 0, 1], [0, 0, 1], [1, 0, 0], [0, 0, 1], [0, 0, 1], [0, 0, 1], [1, 0, 0], [1, 0, 0], [1, 0, 0], [1, 0, 0], [1, 0, 0], [1, 0, 0], [0, 1, 0], [0, 0, 1], [1, 0, 0], [1, 0, 0], [0, 0, 1], [1, 0, 0], [1, 0, 0], [1, 0, 0], [1, 0, 0], [0, 0, 1], [0, 0, 1], [1, 0, 0], [1, 0, 0], [1, 0, 0], [1, 0, 0], [0, 0, 1], [0, 0, 1], [1, 0, 0], [1, 0, 0], [1, 0, 0], [0, 0, 1], [1, 0, 0], [1, 0, 0], [1, 0, 0], [0, 0, 1], [1, 0, 0], [0, 0, 1], [0, 0, 1], [1, 0, 0], [0, 1, 0]]\n"
     ]
    }
   ],
   "source": [
    "predictions = []\n",
    "score = model.predict(test_x)\n",
    "for i in range(75):\n",
    "    if np.argmax(score[i]) == 1:\n",
    "        predictions.append([0, 1, 0])\n",
    "    elif np.argmax(score[i]) == 2: \n",
    "        predictions.append([0, 0, 1])\n",
    "    else:\n",
    "        predictions.append([1, 0, 0])\n",
    "print(predictions)"
   ]
  },
  {
   "cell_type": "code",
   "execution_count": 70,
   "metadata": {},
   "outputs": [
    {
     "name": "stdout",
     "output_type": "stream",
     "text": [
      "[2, 0, 0, 2, 0, 0, 0, 2, 2, 2, 2, 0, 2, 0, 2, 0, 0, 1, 2, 2, 2, 0, 0, 0, 0, 2, 2, 1, 0, 2, 1, 0, 0, 2, 2, 0, 2, 2, 2, 0, 0, 0, 0, 0, 0, 1, 2, 0, 0, 2, 0, 0, 0, 0, 2, 2, 0, 0, 0, 0, 2, 2, 0, 0, 0, 2, 0, 0, 0, 2, 0, 2, 2, 0, 1]\n"
     ]
    }
   ],
   "source": [
    "predictions_arg = []\n",
    "for i in range(75):\n",
    "    if np.argmax(score[i]) == 1:\n",
    "        predictions_arg.append(1)\n",
    "    elif np.argmax(score[i]) == 2: \n",
    "        predictions_arg.append(2)\n",
    "    else:\n",
    "        predictions_arg.append(0)\n",
    "print(predictions_arg)"
   ]
  },
  {
   "cell_type": "code",
   "execution_count": 71,
   "metadata": {},
   "outputs": [
    {
     "name": "stdout",
     "output_type": "stream",
     "text": [
      "[2, 2, 0, 0, 0, 0, 0, 2, 0, 2, 2, 0, 0, 0, 2, 0, 0, 1, 2, 2, 2, 0, 2, 0, 0, 2, 2, 1, 2, 2, 1, 2, 2, 2, 2, 0, 2, 2, 2, 0, 0, 0, 0, 0, 0, 1, 2, 0, 2, 2, 2, 2, 2, 0, 2, 2, 0, 0, 0, 0, 2, 2, 2, 0, 0, 2, 0, 2, 0, 2, 0, 2, 2, 0, 1]\n"
     ]
    }
   ],
   "source": [
    "test_y_arg = []\n",
    "for i in range(75):\n",
    "    if np.argmax(test_y[i]) == 1:\n",
    "        test_y_arg.append(1)\n",
    "    elif np.argmax(test_y[i]) == 2: \n",
    "        test_y_arg.append(2)\n",
    "    else:\n",
    "        test_y_arg.append(0)\n",
    "print(test_y_arg)"
   ]
  },
  {
   "cell_type": "code",
   "execution_count": 78,
   "metadata": {},
   "outputs": [],
   "source": [
    "from sklearn.metrics import precision_score\n",
    "from sklearn.metrics import recall_score\n",
    "from sklearn.metrics import f1_score\n",
    "from sklearn.metrics import confusion_matrix\n",
    "from sklearn.metrics import accuracy_score"
   ]
  },
  {
   "cell_type": "code",
   "execution_count": 72,
   "metadata": {},
   "outputs": [
    {
     "name": "stdout",
     "output_type": "stream",
     "text": [
      "Precision: 83.09167367535744%\n"
     ]
    }
   ],
   "source": [
    "print(\"Precision: {}%\".format(100*precision_score(test_y_arg, predictions_arg, average=\"weighted\")))"
   ]
  },
  {
   "cell_type": "code",
   "execution_count": 73,
   "metadata": {},
   "outputs": [
    {
     "name": "stdout",
     "output_type": "stream",
     "text": [
      "Recall: 81.33333333333333%\n",
      "f1_score: 81.21102921102921%\n"
     ]
    }
   ],
   "source": [
    "print(\"Recall: {}%\".format(100*recall_score(test_y_arg, predictions_arg, average=\"weighted\")))\n",
    "print (\"f1_score: {}%\".format(100*f1_score(test_y_arg, predictions_arg, average=\"weighted\")))"
   ]
  },
  {
   "cell_type": "code",
   "execution_count": 77,
   "metadata": {},
   "outputs": [
    {
     "name": "stdout",
     "output_type": "stream",
     "text": [
      "[[30  0  3]\n",
      " [ 0  5  0]\n",
      " [11  0 26]]\n"
     ]
    }
   ],
   "source": [
    "matrix = confusion_matrix(test_y_arg, predictions_arg)\n",
    "print(matrix)"
   ]
  },
  {
   "cell_type": "code",
   "execution_count": 80,
   "metadata": {},
   "outputs": [
    {
     "name": "stdout",
     "output_type": "stream",
     "text": [
      "0.8133333333333334\n"
     ]
    }
   ],
   "source": [
    "accuracy = accuracy_score(test_y_arg, predictions_arg)\n",
    "print(accuracy)"
   ]
  },
  {
   "cell_type": "code",
   "execution_count": null,
   "metadata": {},
   "outputs": [],
   "source": []
  }
 ],
 "metadata": {
  "kernelspec": {
   "display_name": "Python 3",
   "language": "python",
   "name": "python3"
  },
  "language_info": {
   "codemirror_mode": {
    "name": "ipython",
    "version": 3
   },
   "file_extension": ".py",
   "mimetype": "text/x-python",
   "name": "python",
   "nbconvert_exporter": "python",
   "pygments_lexer": "ipython3",
   "version": "3.6.8"
  }
 },
 "nbformat": 4,
 "nbformat_minor": 2
}
